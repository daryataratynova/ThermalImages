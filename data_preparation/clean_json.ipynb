{
 "cells": [
  {
   "cell_type": "code",
   "execution_count": 36,
   "metadata": {},
   "outputs": [],
   "source": [
    "import json"
   ]
  },
  {
   "cell_type": "code",
   "execution_count": 37,
   "metadata": {},
   "outputs": [],
   "source": [
    "with open('test.json', 'r') as file:\n",
    "    data = json.load(file)"
   ]
  },
  {
   "cell_type": "code",
   "execution_count": 38,
   "metadata": {},
   "outputs": [],
   "source": [
    "for i, item in enumerate(data):\n",
    "    item['id'] = i"
   ]
  },
  {
   "cell_type": "code",
   "execution_count": 39,
   "metadata": {},
   "outputs": [],
   "source": [
    "unique_image_ids = set(item['image_id'] for item in data)\n",
    "for unique_id in unique_image_ids:\n",
    "    image_count = sum(1 for item in data if item['image_id'] == unique_id)\n",
    "    for item in data:\n",
    "        if item['image_id'] == unique_id:\n",
    "            item['iscrowd'] = 1 if image_count > 1 else 0"
   ]
  },
  {
   "cell_type": "code",
   "execution_count": 40,
   "metadata": {},
   "outputs": [],
   "source": [
    "for item in data:\n",
    "    item['keypoints'][2::3] = [0 if test <= 0.17 else 2 for test in item['keypoints'][2::3]]"
   ]
  },
  {
   "cell_type": "code",
   "execution_count": null,
   "metadata": {},
   "outputs": [],
   "source": [
    "def mirror_keypoints(keypoints, image_width):\n",
    "    mirrored_keypoints = []\n",
    "    for i in range(0, len(keypoints), 3):\n",
    "        old_x = keypoints[i]\n",
    "        new_x = image_width - old_x\n",
    "        new_y = keypoints[i + 1]\n",
    "        new_v = keypoints[i + 2]\n",
    "        mirrored_keypoints.extend([new_x, new_y, new_v])\n",
    "    return mirrored_keypoints"
   ]
  },
  {
   "cell_type": "code",
   "execution_count": null,
   "metadata": {},
   "outputs": [],
   "source": [
    "def mirror_bbox(bbox, image_width):\n",
    "    old_x, old_y, width, height = bbox\n",
    "    new_x = image_width - (old_x + width)\n",
    "    return [new_x, old_y, width, height]"
   ]
  },
  {
   "cell_type": "code",
   "execution_count": null,
   "metadata": {},
   "outputs": [],
   "source": [
    "image_width = 463\n",
    "mirrored_data = {}"
   ]
  },
  {
   "cell_type": "code",
   "execution_count": 41,
   "metadata": {},
   "outputs": [],
   "source": [
    "for item in data:\n",
    "    if '_m.png' in item['image_id']:\n",
    "        original_image_id = item['image_id'].replace('_m.png', '.png')\n",
    "        if original_image_id not in mirrored_data:\n",
    "            mirrored_data[original_image_id] = []\n",
    "        mirrored_keypoints = mirror_keypoints(item['keypoints'], image_width)\n",
    "        mirrored_bbox = mirror_bbox(item['bbox'], image_width)\n",
    "        mirrored_data[original_image_id].append({\n",
    "            'keypoints': mirrored_keypoints,\n",
    "            'bbox': mirrored_bbox\n",
    "        })"
   ]
  },
  {
   "cell_type": "code",
   "execution_count": null,
   "metadata": {},
   "outputs": [],
   "source": [
    "for item in data:\n",
    "    if '_m.png' in item['image_id']:\n",
    "        original_image_id = item['image_id'].replace('_m.png', '.png')\n",
    "        if original_image_id in mirrored_data:\n",
    "            mirrored_items = mirrored_data[original_image_id]\n",
    "            item_index = data.index(item)\n",
    "            if item_index < len(mirrored_items):\n",
    "                item['keypoints'] = mirrored_items[item_index]['keypoints']\n",
    "                item['bbox'] = mirrored_items[item_index]['bbox']"
   ]
  },
  {
   "cell_type": "code",
   "execution_count": 42,
   "metadata": {},
   "outputs": [],
   "source": [
    "with open('test_corrected.json', 'w') as f:\n",
    "    json.dump(data, f, indent=2)"
   ]
  }
 ],
 "metadata": {
  "kernelspec": {
   "display_name": "Python 3",
   "language": "python",
   "name": "python3"
  },
  "language_info": {
   "codemirror_mode": {
    "name": "ipython",
    "version": 3
   },
   "file_extension": ".py",
   "mimetype": "text/x-python",
   "name": "python",
   "nbconvert_exporter": "python",
   "pygments_lexer": "ipython3",
   "version": "3.10.6"
  }
 },
 "nbformat": 4,
 "nbformat_minor": 2
}
